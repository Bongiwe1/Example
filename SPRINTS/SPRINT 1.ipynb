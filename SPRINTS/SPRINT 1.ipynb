{
 "cells": [
  {
   "cell_type": "code",
   "execution_count": 2,
   "metadata": {},
   "outputs": [],
   "source": [
    "import pandas as pd"
   ]
  },
  {
   "cell_type": "code",
   "execution_count": 3,
   "metadata": {},
   "outputs": [],
   "source": [
    "stock_data = {\n",
    "    \"Chips\": [\"Simba\", 50, 6, 300], [\"Lays\", 50, 7, 350], [\"Dorittos\", 50, 9, 450], [\"Nik naks\", 50, 1, 50], [\"Popcorns\", 50, 5, 250],\n",
    "    [\"Coke\", 25, 10, 250], [\"Fanta\", 25, 10, 250], [\"Sprite\", 25, 10, 250], [\"Stoney\", 25, 10, 250], [\"Pepsi\", 25, 10, 250],\n",
    "    [\"Cadbury\", 30, 9, 270],[\"Tex\", 30, 6, 180], [\"Lunchbar\", 30, 6, 180], [\"Crisp\", 40, 6, 240], [\"PS\", 40, 7, 280],\n",
    "    [\"Pepper Steak\", 25, 15, 375], [\"Chicken\", 25, 12, 300], [\"Egg and Ham\", 25, 12, 300], [\"Vegetable\", 20, 15, 300], [\"Mince\", 25, 12, 300],\n",
    "    [\"Pear\", 30, 3, 90], [\"Apple\", 30, 2, 60], [\"Orange\", 30, 4, 120], [\"Peach\", 20, 3, 60], [\"Kiwi\", 30, 5, 150],\n",
    "    [\"Vanilla\", 25, 6, 150], [\"chocolate\", 25, 8, 200], [\"Bran\", 25, 7, 175], [\"Caramel\", 25, 7, 175], [\"Blueberry\", 25, 8, 200],\n",
    "    [\"Spinach\", 20, 10, 210], [\"Cabbage\", 20, 10, 210], [\"Potato\", 30, 30, 900], [\"Pumkin\", 20, 15, 300], [\"Carrots\", 30, 10, 300]}"
   ]
  },
  {
   "cell_type": "code",
   "execution_count": 4,
   "metadata": {},
   "outputs": [],
   "source": [
    "stock = pd.DataFrame(stock_data, columns = [\"Item\", \"Quantity\", \"Unit price (R)\", \"Selling price total (R)\"],\n",
    "    index = [\"Chips (1)\",\"(2)\",\"(3)\", \"(4)\", \"(5)\", \"Cooldrinks (1)\",\"(2)\",\"(3)\", \"(4)\", \"(5)\",\"Chocolates (1)\",\"(2)\",\"(3)\", \"(4)\", \"(5)\", \"Pies (1)\",\"(2)\",\"(3)\", \"(4)\", \"(5)\",\"Fruit (1)\",\"(2)\",\"(3)\",\"(4)\", \"(5)\", \"Cupcakes (1)\",\"(2)\",\"(3)\",\"(4)\", \"(5)\", \"Veggies (1)\", \"(2)\", \"(3)\", \"(4)\", \"(5)\"])"
   ]
  },
  {
   "cell_type": "code",
   "execution_count": 5,
   "metadata": {},
   "outputs": [],
   "source": [
    "stock.to_csv(\"stoc.csv\")"
   ]
  },
  {
   "cell_type": "code",
   "execution_count": 18,
   "metadata": {},
   "outputs": [
    {
     "data": {
      "text/plain": [
       "<matplotlib.axes._subplots.AxesSubplot at 0x1345add9dc8>"
      ]
     },
     "execution_count": 18,
     "metadata": {},
     "output_type": "execute_result"
    },
    {
     "data": {
      "image/png": "[encoded data removed]",
      "text/plain": [
       "<Figure size 432x288 with 1 Axes>"
      ]
     },
     "metadata": {
      "needs_background": "light"
     },
     "output_type": "display_data"
    }
   ],
   "source": [
    "stock.plot(x = \"Item\", y = \"Selling price total (R)\", kind = \"bar\")"
   ]
  },
  {
   "cell_type": "code",
   "execution_count": 19,
   "metadata": {},
   "outputs": [
    {
     "data": {
      "text/html": [
       "<div>\n",
       "<style scoped>\n",
       "    .dataframe tbody tr th:only-of-type {\n",
       "        vertical-align: middle;\n",
       "    }\n",
       "\n",
       "    .dataframe tbody tr th {\n",
       "        vertical-align: top;\n",
       "    }\n",
       "\n",
       "    .dataframe thead th {\n",
       "        text-align: right;\n",
       "    }\n",
       "</style>\n",
       "<table border=\"1\" class=\"dataframe\">\n",
       "  <thead>\n",
       "    <tr style=\"text-align: right;\">\n",
       "      <th></th>\n",
       "      <th>Quantity</th>\n",
       "      <th>Unit price (R)</th>\n",
       "      <th>Selling price total (R)</th>\n",
       "    </tr>\n",
       "  </thead>\n",
       "  <tbody>\n",
       "    <tr>\n",
       "      <td>count</td>\n",
       "      <td>35.000000</td>\n",
       "      <td>35.000000</td>\n",
       "      <td>35.000000</td>\n",
       "    </tr>\n",
       "    <tr>\n",
       "      <td>mean</td>\n",
       "      <td>30.000000</td>\n",
       "      <td>8.742857</td>\n",
       "      <td>247.857143</td>\n",
       "    </tr>\n",
       "    <tr>\n",
       "      <td>std</td>\n",
       "      <td>9.471319</td>\n",
       "      <td>5.106759</td>\n",
       "      <td>144.590119</td>\n",
       "    </tr>\n",
       "    <tr>\n",
       "      <td>min</td>\n",
       "      <td>20.000000</td>\n",
       "      <td>1.000000</td>\n",
       "      <td>50.000000</td>\n",
       "    </tr>\n",
       "    <tr>\n",
       "      <td>25%</td>\n",
       "      <td>25.000000</td>\n",
       "      <td>6.000000</td>\n",
       "      <td>177.500000</td>\n",
       "    </tr>\n",
       "    <tr>\n",
       "      <td>50%</td>\n",
       "      <td>25.000000</td>\n",
       "      <td>8.000000</td>\n",
       "      <td>250.000000</td>\n",
       "    </tr>\n",
       "    <tr>\n",
       "      <td>75%</td>\n",
       "      <td>30.000000</td>\n",
       "      <td>10.000000</td>\n",
       "      <td>300.000000</td>\n",
       "    </tr>\n",
       "    <tr>\n",
       "      <td>max</td>\n",
       "      <td>50.000000</td>\n",
       "      <td>30.000000</td>\n",
       "      <td>900.000000</td>\n",
       "    </tr>\n",
       "  </tbody>\n",
       "</table>\n",
       "</div>"
      ],
      "text/plain": [
       "        Quantity  Unit price (R)  Selling price total (R)\n",
       "count  35.000000       35.000000                35.000000\n",
       "mean   30.000000        8.742857               247.857143\n",
       "std     9.471319        5.106759               144.590119\n",
       "min    20.000000        1.000000                50.000000\n",
       "25%    25.000000        6.000000               177.500000\n",
       "50%    25.000000        8.000000               250.000000\n",
       "75%    30.000000       10.000000               300.000000\n",
       "max    50.000000       30.000000               900.000000"
      ]
     },
     "execution_count": 19,
     "metadata": {},
     "output_type": "execute_result"
    }
   ],
   "source": [
    "stock.describe()"
   ]
  },
  {
   "cell_type": "code",
   "execution_count": 24,
   "metadata": {},
   "outputs": [
    {
     "data": {
      "text/html": [
       "<div>\n",
       "<style scoped>\n",
       "    .dataframe tbody tr th:only-of-type {\n",
       "        vertical-align: middle;\n",
       "    }\n",
       "\n",
       "    .dataframe tbody tr th {\n",
       "        vertical-align: top;\n",
       "    }\n",
       "\n",
       "    .dataframe thead th {\n",
       "        text-align: right;\n",
       "    }\n",
       "</style>\n",
       "<table border=\"1\" class=\"dataframe\">\n",
       "  <thead>\n",
       "    <tr style=\"text-align: right;\">\n",
       "      <th></th>\n",
       "      <th>Item</th>\n",
       "      <th>Quantity</th>\n",
       "      <th>Unit price (R)</th>\n",
       "      <th>Selling price total (R)</th>\n",
       "    </tr>\n",
       "  </thead>\n",
       "  <tbody>\n",
       "    <tr>\n",
       "      <td>Cooldrinks (1)</td>\n",
       "      <td>Coke</td>\n",
       "      <td>25</td>\n",
       "      <td>10</td>\n",
       "      <td>250</td>\n",
       "    </tr>\n",
       "    <tr>\n",
       "      <td>(2)</td>\n",
       "      <td>Fanta</td>\n",
       "      <td>25</td>\n",
       "      <td>10</td>\n",
       "      <td>250</td>\n",
       "    </tr>\n",
       "    <tr>\n",
       "      <td>(3)</td>\n",
       "      <td>Sprite</td>\n",
       "      <td>25</td>\n",
       "      <td>10</td>\n",
       "      <td>250</td>\n",
       "    </tr>\n",
       "    <tr>\n",
       "      <td>(4)</td>\n",
       "      <td>Stoney</td>\n",
       "      <td>25</td>\n",
       "      <td>10</td>\n",
       "      <td>250</td>\n",
       "    </tr>\n",
       "    <tr>\n",
       "      <td>(5)</td>\n",
       "      <td>Pepsi</td>\n",
       "      <td>25</td>\n",
       "      <td>10</td>\n",
       "      <td>250</td>\n",
       "    </tr>\n",
       "    <tr>\n",
       "      <td>Chocolates (1)</td>\n",
       "      <td>Cadbury</td>\n",
       "      <td>30</td>\n",
       "      <td>9</td>\n",
       "      <td>270</td>\n",
       "    </tr>\n",
       "  </tbody>\n",
       "</table>\n",
       "</div>"
      ],
      "text/plain": [
       "                   Item  Quantity  Unit price (R)  Selling price total (R)\n",
       "Cooldrinks (1)     Coke        25              10                      250\n",
       "(2)               Fanta        25              10                      250\n",
       "(3)              Sprite        25              10                      250\n",
       "(4)              Stoney        25              10                      250\n",
       "(5)               Pepsi        25              10                      250\n",
       "Chocolates (1)  Cadbury        30               9                      270"
      ]
     },
     "execution_count": 24,
     "metadata": {},
     "output_type": "execute_result"
    }
   ],
   "source": [
    "stock[\"Cooldrinks (1)\": \"Chocolates (1)\"]"
   ]
  },
  {
   "cell_type": "code",
   "execution_count": null,
   "metadata": {},
   "outputs": [],
   "source": []
  }
 ],
 "metadata": {
  "kernelspec": {
   "display_name": "Python 3",
   "language": "python",
   "name": "python3"
  },
  "language_info": {
   "codemirror_mode": {
    "name": "ipython",
    "version": 3
   },
   "file_extension": ".py",
   "mimetype": "text/x-python",
   "name": "python",
   "nbconvert_exporter": "python",
   "pygments_lexer": "ipython3",
   "version": "3.7.4"
  }
 },
 "nbformat": 4,
 "nbformat_minor": 2
}
