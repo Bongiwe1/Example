{
 "cells": [
  {
   "cell_type": "code",
   "execution_count": 1,
   "metadata": {},
   "outputs": [],
   "source": [
    "import pymongo\n",
    "import pandas as pd"
   ]
  },
  {
   "cell_type": "code",
   "execution_count": 2,
   "metadata": {},
   "outputs": [],
   "source": [
    "#Create database\n",
    "\n",
    "myclient = pymongo.MongoClient(\"mongodb://localhost:27017/\")\n",
    "mydb = myclient[\"Data_Tracker\"]"
   ]
  },
  {
   "cell_type": "code",
   "execution_count": 3,
   "metadata": {},
   "outputs": [],
   "source": [
    "#create a collection called \"stock details\" within Data tracker\n",
    "\n",
    "mycol = mydb[\"stock_details\"] "
   ]
  },
  {
   "cell_type": "code",
   "execution_count": 4,
   "metadata": {},
   "outputs": [
    {
     "name": "stdout",
     "output_type": "stream",
     "text": [
      "5e58c71f5bafdf7d59a3ae83\n"
     ]
    }
   ],
   "source": [
    "#insemydict = {\"name\": \"Peter\", \"address\": \"Lowstreet 27\"}\n",
    "#x = mycol.insert_one(insemydict)\n",
    "#print(x.inserted_id)\n",
    "\n",
    "#x = mycol.delete_many({})"
   ]
  },
  {
   "cell_type": "code",
   "execution_count": 5,
   "metadata": {},
   "outputs": [
    {
     "name": "stdout",
     "output_type": "stream",
     "text": [
      "{'_id': ObjectId('5e58c73f5b2de941386c4802'), '\"Stock Item\"': 'Simba', 'Size': '\"36 g\"', '\"Product type\"': 'Chips', 'Quantity': '50', '\"Stock Unit Price\"': '5', '\"Stock price\"': '250', '\"Selling Unit Price\"': '6', '\"Stock Selling Price\"': '300', '\"Expected Profit\"': '50', '\"Shelf number\"': '1'}\n",
      "{'_id': ObjectId('5e58c73f5b2de941386c4803'), '\"Stock Item\"': 'Lays', 'Size': '\"36 g\"', '\"Product type\"': 'Chips', 'Quantity': '50', '\"Stock Unit Price\"': '6', '\"Stock price\"': '300', '\"Selling Unit Price\"': '7', '\"Stock Selling Price\"': '350', '\"Expected Profit\"': '50', '\"Shelf number\"': '1'}\n",
      "{'_id': ObjectId('5e58c73f5b2de941386c4804'), '\"Stock Item\"': 'Doritos', 'Size': '\"36 g\"', '\"Product type\"': 'Chips', 'Quantity': '50', '\"Stock Unit Price\"': '8', '\"Stock price\"': '400', '\"Selling Unit Price\"': '9', '\"Stock Selling Price\"': '450', '\"Expected Profit\"': '50', '\"Shelf number\"': '1'}\n",
      "{'_id': ObjectId('5e58c73f5b2de941386c4805'), '\"Stock Item\"': 'Fritos', 'Size': '\"36 g\"', '\"Product type\"': 'Chips', 'Quantity': '50', '\"Stock Unit Price\"': '2', '\"Stock price\"': '100', '\"Selling Unit Price\"': '3', '\"Stock Selling Price\"': '150', '\"Expected Profit\"': '50', '\"Shelf number\"': '1'}\n",
      "{'_id': ObjectId('5e58c73f5b2de941386c4806'), '\"Stock Item\"': '\"Popcorns \"', 'Size': '\"36 g\"', '\"Product type\"': 'Chips', 'Quantity': '50', '\"Stock Unit Price\"': '4', '\"Stock price\"': '200', '\"Selling Unit Price\"': '5', '\"Stock Selling Price\"': '250', '\"Expected Profit\"': '50', '\"Shelf number\"': '8'}\n",
      "{'_id': ObjectId('5e58c73f5b2de941386c4807'), '\"Stock Item\"': 'Coke', 'Size': '\"340 ml\"', '\"Product type\"': 'Cooldrink', 'Quantity': '25', '\"Stock Unit Price\"': '10', '\"Stock price\"': '250', '\"Selling Unit Price\"': '11', '\"Stock Selling Price\"': '275', '\"Expected Profit\"': '25', '\"Shelf number\"': '2'}\n",
      "{'_id': ObjectId('5e58c73f5b2de941386c4808'), '\"Stock Item\"': 'Fanta', 'Size': '\"340 ml\"', '\"Product type\"': 'Cooldrink', 'Quantity': '25', '\"Stock Unit Price\"': '10', '\"Stock price\"': '250', '\"Selling Unit Price\"': '11', '\"Stock Selling Price\"': '275', '\"Expected Profit\"': '25', '\"Shelf number\"': '2'}\n",
      "{'_id': ObjectId('5e58c73f5b2de941386c4809'), '\"Stock Item\"': 'Sprite', 'Size': '\"340 ml\"', '\"Product type\"': 'Cooldrink', 'Quantity': '25', '\"Stock Unit Price\"': '10', '\"Stock price\"': '250', '\"Selling Unit Price\"': '11', '\"Stock Selling Price\"': '275', '\"Expected Profit\"': '25', '\"Shelf number\"': '2'}\n",
      "{'_id': ObjectId('5e58c73f5b2de941386c480a'), '\"Stock Item\"': 'Stoney', 'Size': '\"340 ml\"', '\"Product type\"': 'Cooldrink', 'Quantity': '25', '\"Stock Unit Price\"': '10', '\"Stock price\"': '250', '\"Selling Unit Price\"': '11', '\"Stock Selling Price\"': '275', '\"Expected Profit\"': '25', '\"Shelf number\"': '2'}\n",
      "{'_id': ObjectId('5e58c73f5b2de941386c480b'), '\"Stock Item\"': 'Pepsi', 'Size': '\"340 ml\"', '\"Product type\"': 'Cooldrink', 'Quantity': '25', '\"Stock Unit Price\"': '10', '\"Stock price\"': '250', '\"Selling Unit Price\"': '11', '\"Stock Selling Price\"': '275', '\"Expected Profit\"': '25', '\"Shelf number\"': '2'}\n",
      "{'_id': ObjectId('5e58c73f5b2de941386c480c'), '\"Stock Item\"': 'Cadbury', 'Size': '\"48 g\"', '\"Product type\"': 'Chocolate', 'Quantity': '30', '\"Stock Unit Price\"': '8', '\"Stock price\"': '240', '\"Selling Unit Price\"': '9', '\"Stock Selling Price\"': '270', '\"Expected Profit\"': '30', '\"Shelf number\"': '3'}\n",
      "{'_id': ObjectId('5e58c73f5b2de941386c480d'), '\"Stock Item\"': 'Tex', 'Size': '\"48 g\"', '\"Product type\"': 'Chocolate', 'Quantity': '30', '\"Stock Unit Price\"': '5', '\"Stock price\"': '150', '\"Selling Unit Price\"': '6', '\"Stock Selling Price\"': '180', '\"Expected Profit\"': '30', '\"Shelf number\"': '3'}\n",
      "{'_id': ObjectId('5e58c73f5b2de941386c480e'), '\"Stock Item\"': '\"Lunch Bar\"', 'Size': '\"48 g\"', '\"Product type\"': 'Chocolate', 'Quantity': '30', '\"Stock Unit Price\"': '5', '\"Stock price\"': '150', '\"Selling Unit Price\"': '6', '\"Stock Selling Price\"': '180', '\"Expected Profit\"': '30', '\"Shelf number\"': '3'}\n",
      "{'_id': ObjectId('5e58c73f5b2de941386c480f'), '\"Stock Item\"': 'Crisp', 'Size': '\"48 g\"', '\"Product type\"': 'Chocolate', 'Quantity': '40', '\"Stock Unit Price\"': '5', '\"Stock price\"': '200', '\"Selling Unit Price\"': '6', '\"Stock Selling Price\"': '240', '\"Expected Profit\"': '40', '\"Shelf number\"': '3'}\n",
      "{'_id': ObjectId('5e58c73f5b2de941386c4810'), '\"Stock Item\"': 'P.S', 'Size': '\"48 g\"', '\"Product type\"': 'Chocolate', 'Quantity': '40', '\"Stock Unit Price\"': '6', '\"Stock price\"': '240', '\"Selling Unit Price\"': '7', '\"Stock Selling Price\"': '280', '\"Expected Profit\"': '40', '\"Shelf number\"': '3'}\n",
      "{'_id': ObjectId('5e58c73f5b2de941386c4811'), '\"Stock Item\"': '\"Pepper Steak\"', 'Size': '\"160 g\"', '\"Product type\"': 'Pie', 'Quantity': '25', '\"Stock Unit Price\"': '15', '\"Stock price\"': '375', '\"Selling Unit Price\"': '18', '\"Stock Selling Price\"': '450', '\"Expected Profit\"': '25', '\"Shelf number\"': '4'}\n",
      "{'_id': ObjectId('5e58c73f5b2de941386c4812'), '\"Stock Item\"': 'Chicken', 'Size': '\"160 g\"', '\"Product type\"': 'Pie', 'Quantity': '25', '\"Stock Unit Price\"': '12', '\"Stock price\"': '300', '\"Selling Unit Price\"': '15', '\"Stock Selling Price\"': '375', '\"Expected Profit\"': '75', '\"Shelf number\"': '4'}\n",
      "{'_id': ObjectId('5e58c73f5b2de941386c4813'), '\"Stock Item\"': '\"Egg and Ham \"', 'Size': '\"160 g\"', '\"Product type\"': 'Pie', 'Quantity': '25', '\"Stock Unit Price\"': '12', '\"Stock price\"': '300', '\"Selling Unit Price\"': '15', '\"Stock Selling Price\"': '375', '\"Expected Profit\"': '50', '\"Shelf number\"': '8'}\n",
      "{'_id': ObjectId('5e58c73f5b2de941386c4814'), '\"Stock Item\"': 'Vegetable', 'Size': '\"160 g\"', '\"Product type\"': 'Pie', 'Quantity': '20', '\"Stock Unit Price\"': '15', '\"Stock price\"': '300', '\"Selling Unit Price\"': '18', '\"Stock Selling Price\"': '360', '\"Expected Profit\"': '60', '\"Shelf number\"': '4'}\n",
      "{'_id': ObjectId('5e58c73f5b2de941386c4815'), '\"Stock Item\"': 'Mince', 'Size': '\"160 g\"', '\"Product type\"': 'Pie', 'Quantity': '25', '\"Stock Unit Price\"': '12', '\"Stock price\"': '300', '\"Selling Unit Price\"': '15', '\"Stock Selling Price\"': '375', '\"Expected Profit\"': '75', '\"Shelf number\"': '4'}\n",
      "{'_id': ObjectId('5e58c73f5b2de941386c4816'), '\"Stock Item\"': 'Vanilla', 'Size': 'single', '\"Product type\"': 'Cupcake', 'Quantity': '25', '\"Stock Unit Price\"': '6', '\"Stock price\"': '150', '\"Selling Unit Price\"': '9', '\"Stock Selling Price\"': '225', '\"Expected Profit\"': '75', '\"Shelf number\"': '4'}\n",
      "{'_id': ObjectId('5e58c73f5b2de941386c4817'), '\"Stock Item\"': 'Bran', 'Size': 'single', '\"Product type\"': 'Cupcake', 'Quantity': '25', '\"Stock Unit Price\"': '6', '\"Stock price\"': '150', '\"Selling Unit Price\"': '9', '\"Stock Selling Price\"': '225', '\"Expected Profit\"': '75', '\"Shelf number\"': '4'}\n",
      "{'_id': ObjectId('5e58c73f5b2de941386c4818'), '\"Stock Item\"': 'Caramel', 'Size': 'single', '\"Product type\"': 'Cupcake', 'Quantity': '25', '\"Stock Unit Price\"': '6', '\"Stock price\"': '150', '\"Selling Unit Price\"': '9', '\"Stock Selling Price\"': '225', '\"Expected Profit\"': '75', '\"Shelf number\"': '4'}\n",
      "{'_id': ObjectId('5e58c73f5b2de941386c4819'), '\"Stock Item\"': 'Blueberry', 'Size': 'single', '\"Product type\"': 'Cupcake', 'Quantity': '25', '\"Stock Unit Price\"': '7', '\"Stock price\"': '175', '\"Selling Unit Price\"': '10', '\"Stock Selling Price\"': '250', '\"Expected Profit\"': '75', '\"Shelf number\"': '4'}\n",
      "{'_id': ObjectId('5e58c73f5b2de941386c481a'), '\"Stock Item\"': '\"Thin mint\"', 'Size': 'single', '\"Product type\"': 'Cupcake', 'Quantity': '25', '\"Stock Unit Price\"': '7', '\"Stock price\"': '175', '\"Selling Unit Price\"': '10', '\"Stock Selling Price\"': '250', '\"Expected Profit\"': '75', '\"Shelf number\"': '4'}\n",
      "{'_id': ObjectId('5e58c73f5b2de941386c481b'), '\"Stock Item\"': '\"Spinach \"', 'Size': '\"1 pack\"', '\"Product type\"': 'Veggies', 'Quantity': '20', '\"Stock Unit Price\"': '7', '\"Stock price\"': '140', '\"Selling Unit Price\"': '10', '\"Stock Selling Price\"': '200', '\"Expected Profit\"': '50', '\"Shelf number\"': '8'}\n",
      "{'_id': ObjectId('5e58c73f5b2de941386c481c'), '\"Stock Item\"': 'Cabbage', 'Size': '\"1 piece\"', '\"Product type\"': 'Veggies', 'Quantity': '20', '\"Stock Unit Price\"': '7', '\"Stock price\"': '140', '\"Selling Unit Price\"': '10', '\"Stock Selling Price\"': '200', '\"Expected Profit\"': '60', '\"Shelf number\"': '5'}\n",
      "{'_id': ObjectId('5e58c73f5b2de941386c481d'), '\"Stock Item\"': 'Potato', 'Size': '5kg', '\"Product type\"': 'Veggies', 'Quantity': '30', '\"Stock Unit Price\"': '20', '\"Stock price\"': '600', '\"Selling Unit Price\"': '25', '\"Stock Selling Price\"': '750', '\"Expected Profit\"': '50', '\"Shelf number\"': '5'}\n",
      "{'_id': ObjectId('5e58c73f5b2de941386c481e'), '\"Stock Item\"': 'Squash', 'Size': '1kg', '\"Product type\"': 'Veggies', 'Quantity': '20', '\"Stock Unit Price\"': '12', '\"Stock price\"': '240', '\"Selling Unit Price\"': '15', '\"Stock Selling Price\"': '300', '\"Expected Profit\"': '60', '\"Shelf number\"': '5'}\n",
      "{'_id': ObjectId('5e58c73f5b2de941386c481f'), '\"Stock Item\"': 'Carrots', 'Size': '1kg', '\"Product type\"': 'Veggies', 'Quantity': '30', '\"Stock Unit Price\"': '7', '\"Stock price\"': '210', '\"Selling Unit Price\"': '10', '\"Stock Selling Price\"': '300', '\"Expected Profit\"': '90', '\"Shelf number\"': '5'}\n",
      "{'_id': ObjectId('5e58c73f5b2de941386c4820'), '\"Stock Item\"': 'Apple', 'Size': '1kg', '\"Product type\"': 'Fruits', 'Quantity': '30', '\"Stock Unit Price\"': '7', '\"Stock price\"': '210', '\"Selling Unit Price\"': '12', '\"Stock Selling Price\"': '360', '\"Expected Profit\"': '50', '\"Shelf number\"': '6'}\n",
      "{'_id': ObjectId('5e58c73f5b2de941386c4821'), '\"Stock Item\"': 'Pear', 'Size': '1kg', '\"Product type\"': 'Fruits', 'Quantity': '30', '\"Stock Unit Price\"': '7', '\"Stock price\"': '210', '\"Selling Unit Price\"': '12', '\"Stock Selling Price\"': '360', '\"Expected Profit\"': '50', '\"Shelf number\"': '6'}\n",
      "{'_id': ObjectId('5e58c73f5b2de941386c4822'), '\"Stock Item\"': 'Orange', 'Size': '1kg', '\"Product type\"': 'Fruits', 'Quantity': '30', '\"Stock Unit Price\"': '8', '\"Stock price\"': '240', '\"Selling Unit Price\"': '15', '\"Stock Selling Price\"': '450', '\"Expected Profit\"': '210', '\"Shelf number\"': '6'}\n",
      "{'_id': ObjectId('5e58c73f5b2de941386c4823'), '\"Stock Item\"': 'Peach', 'Size': '1kg', '\"Product type\"': 'Fruits', 'Quantity': '30', '\"Stock Unit Price\"': '9', '\"Stock price\"': '270', '\"Selling Unit Price\"': '16', '\"Stock Selling Price\"': '480', '\"Expected Profit\"': '160', '\"Shelf number\"': '6'}\n",
      "{'_id': ObjectId('5e58c73f5b2de941386c4824'), '\"Stock Item\"': 'Kiwi', 'Size': '1kg', '\"Product type\"': 'Fruits', 'Quantity': '20', '\"Stock Unit Price\"': '10', '\"Stock price\"': '200', '\"Selling Unit Price\"': '18', '\"Stock Selling Price\"': '360', '\"Expected Profit\"': '125', '\"Shelf number\"': '6'}\n",
      "{'_id': ObjectId('5e58c73f5b2de941386c4825'), '\"Stock Item\"': 'Magnum', 'Size': '\"250 ml\"', '\"Product type\"': '\"Ice lolly\"', 'Quantity': '25', '\"Stock Unit Price\"': '12', '\"Stock price\"': '300', '\"Selling Unit Price\"': '17', '\"Stock Selling Price\"': '425', '\"Expected Profit\"': '50', '\"Shelf number\"': '7'}\n",
      "{'_id': ObjectId('5e58c73f5b2de941386c4826'), '\"Stock Item\"': '\"Mini Milk\"', 'Size': '\"250 ml\"', '\"Product type\"': '\"Ice lolly\"', 'Quantity': '25', '\"Stock Unit Price\"': '10', '\"Stock price\"': '250', '\"Selling Unit Price\"': '12', '\"Stock Selling Price\"': '300', '\"Expected Profit\"': '50', '\"Shelf number\"': '7'}\n",
      "{'_id': ObjectId('5e58c73f5b2de941386c4827'), '\"Stock Item\"': 'Calippo', 'Size': '\"250 ml\"', '\"Product type\"': '\"Ice lolly\"', 'Quantity': '25', '\"Stock Unit Price\"': '11', '\"Stock price\"': '275', '\"Selling Unit Price\"': '13', '\"Stock Selling Price\"': '325', '\"Expected Profit\"': '50', '\"Shelf number\"': '7'}\n",
      "{'_id': ObjectId('5e58c73f5b2de941386c4828'), '\"Stock Item\"': 'Solero', 'Size': '\"250 ml\"', '\"Product type\"': '\"Ice lolly\"', 'Quantity': '25', '\"Stock Unit Price\"': '10', '\"Stock price\"': '250', '\"Selling Unit Price\"': '12', '\"Stock Selling Price\"': '300', '\"Expected Profit\"': '50', '\"Shelf number\"': '7'}\n",
      "{'_id': ObjectId('5e58c73f5b2de941386c4829'), '\"Stock Item\"': 'Zoom', 'Size': '\"250 ml\"', '\"Product type\"': '\"Ice lolly\"', 'Quantity': '25', '\"Stock Unit Price\"': '8', '\"Stock price\"': '200', '\"Selling Unit Price\"': '10', '\"Stock Selling Price\"': '250', '\"Expected Profit\"': '50', '\"Shelf number\"': '7'}\n",
      "{'_id': ObjectId('5e58c73f5b2de941386c482a'), '\"Stock Item\"': '\"Black pepper\"', 'Size': '\"7 g\"', '\"Product type\"': 'Spices', 'Quantity': '50', '\"Stock Unit Price\"': '2', '\"Stock price\"': '100', '\"Selling Unit Price\"': '3', '\"Stock Selling Price\"': '150', '\"Expected Profit\"': '50', '\"Shelf number\"': '8'}\n",
      "{'_id': ObjectId('5e58c73f5b2de941386c482b'), '\"Stock Item\"': '\"Spicy barbecue\"', 'Size': '\"7 g\"', '\"Product type\"': 'Spices', 'Quantity': '50', '\"Stock Unit Price\"': '2', '\"Stock price\"': '100', '\"Selling Unit Price\"': '3', '\"Stock Selling Price\"': '150', '\"Expected Profit\"': '50', '\"Shelf number\"': '8'}\n",
      "{'_id': ObjectId('5e58c73f5b2de941386c482c'), '\"Stock Item\"': '\"Rajah medium\"', 'Size': '\"7 g\"', '\"Product type\"': 'Spices', 'Quantity': '50', '\"Stock Unit Price\"': '2', '\"Stock price\"': '100', '\"Selling Unit Price\"': '3', '\"Stock Selling Price\"': '150', '\"Expected Profit\"': '50', '\"Shelf number\"': '8'}\n",
      "{'_id': ObjectId('5e58c73f5b2de941386c482d'), '\"Stock Item\"': 'Peri-Peri', 'Size': '\"7 g\"', '\"Product type\"': 'Spices', 'Quantity': '50', '\"Stock Unit Price\"': '2', '\"Stock price\"': '100', '\"Selling Unit Price\"': '3', '\"Stock Selling Price\"': '150', '\"Expected Profit\"': '50', '\"Shelf number\"': '8'}\n",
      "{'_id': ObjectId('5e58c73f5b2de941386c482e'), '\"Stock Item\"': 'Benny', 'Size': '\"7 g\"', '\"Product type\"': 'Spices', 'Quantity': '50', '\"Stock Unit Price\"': '2', '\"Stock price\"': '100', '\"Selling Unit Price\"': '3', '\"Stock Selling Price\"': '150', '\"Expected Profit\"': '50', '\"Shelf number\"': '8'}\n"
     ]
    }
   ],
   "source": [
    "#show all the data\n",
    "mydoc = mycol.find()\n",
    "for x in mydoc:\n",
    "    print(x)"
   ]
  },
  {
   "cell_type": "code",
   "execution_count": 6,
   "metadata": {},
   "outputs": [
    {
     "name": "stdout",
     "output_type": "stream",
     "text": [
      "{'_id': ObjectId('5e58c73f5b2de941386c4802'), '\"Stock Item\"': 'Simba', 'Size': '\"36 g\"', '\"Product type\"': 'Chips', 'Quantity': '50', '\"Stock Unit Price\"': '5', '\"Stock price\"': '250', '\"Selling Unit Price\"': '6', '\"Stock Selling Price\"': '300', '\"Expected Profit\"': '50', '\"Shelf number\"': '1'}\n",
      "{'_id': ObjectId('5e58c73f5b2de941386c4803'), '\"Stock Item\"': 'Lays', 'Size': '\"36 g\"', '\"Product type\"': 'Chips', 'Quantity': '50', '\"Stock Unit Price\"': '6', '\"Stock price\"': '300', '\"Selling Unit Price\"': '7', '\"Stock Selling Price\"': '350', '\"Expected Profit\"': '50', '\"Shelf number\"': '1'}\n",
      "{'_id': ObjectId('5e58c73f5b2de941386c4804'), '\"Stock Item\"': 'Doritos', 'Size': '\"36 g\"', '\"Product type\"': 'Chips', 'Quantity': '50', '\"Stock Unit Price\"': '8', '\"Stock price\"': '400', '\"Selling Unit Price\"': '9', '\"Stock Selling Price\"': '450', '\"Expected Profit\"': '50', '\"Shelf number\"': '1'}\n"
     ]
    }
   ],
   "source": [
    "#Choose top 3 products\n",
    "\n",
    "myresult = mycol.find().limit(3)\n",
    "\n",
    "for x in myresult:\n",
    "    print(x)"
   ]
  },
  {
   "cell_type": "code",
   "execution_count": 23,
   "metadata": {},
   "outputs": [
    {
     "name": "stdout",
     "output_type": "stream",
     "text": [
      "{'_id': ObjectId('5e58c73f5b2de941386c4829'), '\"Stock Item\"': 'Zoom', 'Size': '\"250 ml\"', '\"Product type\"': '\"Ice lolly\"', 'Quantity': '25', '\"Stock Unit Price\"': '8', '\"Stock price\"': '200', '\"Selling Unit Price\"': '10', '\"Stock Selling Price\"': '250', '\"Expected Profit\"': '50', '\"Shelf number\"': '7'}\n",
      "{'_id': ObjectId('5e58c73f5b2de941386c4814'), '\"Stock Item\"': 'Vegetable', 'Size': '\"160 g\"', '\"Product type\"': 'Pie', 'Quantity': '20', '\"Stock Unit Price\"': '15', '\"Stock price\"': '300', '\"Selling Unit Price\"': '18', '\"Stock Selling Price\"': '360', '\"Expected Profit\"': '60', '\"Shelf number\"': '4'}\n",
      "{'_id': ObjectId('5e58c73f5b2de941386c4816'), '\"Stock Item\"': 'Vanilla', 'Size': 'single', '\"Product type\"': 'Cupcake', 'Quantity': '25', '\"Stock Unit Price\"': '6', '\"Stock price\"': '150', '\"Selling Unit Price\"': '9', '\"Stock Selling Price\"': '225', '\"Expected Profit\"': '75', '\"Shelf number\"': '4'}\n",
      "{'_id': ObjectId('5e58c73f5b2de941386c480d'), '\"Stock Item\"': 'Tex', 'Size': '\"48 g\"', '\"Product type\"': 'Chocolate', 'Quantity': '30', '\"Stock Unit Price\"': '5', '\"Stock price\"': '150', '\"Selling Unit Price\"': '6', '\"Stock Selling Price\"': '180', '\"Expected Profit\"': '30', '\"Shelf number\"': '3'}\n",
      "{'_id': ObjectId('5e58c73f5b2de941386c480a'), '\"Stock Item\"': 'Stoney', 'Size': '\"340 ml\"', '\"Product type\"': 'Cooldrink', 'Quantity': '25', '\"Stock Unit Price\"': '10', '\"Stock price\"': '250', '\"Selling Unit Price\"': '11', '\"Stock Selling Price\"': '275', '\"Expected Profit\"': '25', '\"Shelf number\"': '2'}\n",
      "{'_id': ObjectId('5e58c73f5b2de941386c481e'), '\"Stock Item\"': 'Squash', 'Size': '1kg', '\"Product type\"': 'Veggies', 'Quantity': '20', '\"Stock Unit Price\"': '12', '\"Stock price\"': '240', '\"Selling Unit Price\"': '15', '\"Stock Selling Price\"': '300', '\"Expected Profit\"': '60', '\"Shelf number\"': '5'}\n",
      "{'_id': ObjectId('5e58c73f5b2de941386c4809'), '\"Stock Item\"': 'Sprite', 'Size': '\"340 ml\"', '\"Product type\"': 'Cooldrink', 'Quantity': '25', '\"Stock Unit Price\"': '10', '\"Stock price\"': '250', '\"Selling Unit Price\"': '11', '\"Stock Selling Price\"': '275', '\"Expected Profit\"': '25', '\"Shelf number\"': '2'}\n",
      "{'_id': ObjectId('5e58c73f5b2de941386c4828'), '\"Stock Item\"': 'Solero', 'Size': '\"250 ml\"', '\"Product type\"': '\"Ice lolly\"', 'Quantity': '25', '\"Stock Unit Price\"': '10', '\"Stock price\"': '250', '\"Selling Unit Price\"': '12', '\"Stock Selling Price\"': '300', '\"Expected Profit\"': '50', '\"Shelf number\"': '7'}\n",
      "{'_id': ObjectId('5e58c73f5b2de941386c4802'), '\"Stock Item\"': 'Simba', 'Size': '\"36 g\"', '\"Product type\"': 'Chips', 'Quantity': '50', '\"Stock Unit Price\"': '5', '\"Stock price\"': '250', '\"Selling Unit Price\"': '6', '\"Stock Selling Price\"': '300', '\"Expected Profit\"': '50', '\"Shelf number\"': '1'}\n",
      "{'_id': ObjectId('5e58c73f5b2de941386c481d'), '\"Stock Item\"': 'Potato', 'Size': '5kg', '\"Product type\"': 'Veggies', 'Quantity': '30', '\"Stock Unit Price\"': '20', '\"Stock price\"': '600', '\"Selling Unit Price\"': '25', '\"Stock Selling Price\"': '750', '\"Expected Profit\"': '50', '\"Shelf number\"': '5'}\n",
      "{'_id': ObjectId('5e58c73f5b2de941386c482d'), '\"Stock Item\"': 'Peri-Peri', 'Size': '\"7 g\"', '\"Product type\"': 'Spices', 'Quantity': '50', '\"Stock Unit Price\"': '2', '\"Stock price\"': '100', '\"Selling Unit Price\"': '3', '\"Stock Selling Price\"': '150', '\"Expected Profit\"': '50', '\"Shelf number\"': '8'}\n",
      "{'_id': ObjectId('5e58c73f5b2de941386c480b'), '\"Stock Item\"': 'Pepsi', 'Size': '\"340 ml\"', '\"Product type\"': 'Cooldrink', 'Quantity': '25', '\"Stock Unit Price\"': '10', '\"Stock price\"': '250', '\"Selling Unit Price\"': '11', '\"Stock Selling Price\"': '275', '\"Expected Profit\"': '25', '\"Shelf number\"': '2'}\n",
      "{'_id': ObjectId('5e58c73f5b2de941386c4821'), '\"Stock Item\"': 'Pear', 'Size': '1kg', '\"Product type\"': 'Fruits', 'Quantity': '30', '\"Stock Unit Price\"': '7', '\"Stock price\"': '210', '\"Selling Unit Price\"': '12', '\"Stock Selling Price\"': '360', '\"Expected Profit\"': '50', '\"Shelf number\"': '6'}\n",
      "{'_id': ObjectId('5e58c73f5b2de941386c4823'), '\"Stock Item\"': 'Peach', 'Size': '1kg', '\"Product type\"': 'Fruits', 'Quantity': '30', '\"Stock Unit Price\"': '9', '\"Stock price\"': '270', '\"Selling Unit Price\"': '16', '\"Stock Selling Price\"': '480', '\"Expected Profit\"': '160', '\"Shelf number\"': '6'}\n",
      "{'_id': ObjectId('5e58c73f5b2de941386c4810'), '\"Stock Item\"': 'P.S', 'Size': '\"48 g\"', '\"Product type\"': 'Chocolate', 'Quantity': '40', '\"Stock Unit Price\"': '6', '\"Stock price\"': '240', '\"Selling Unit Price\"': '7', '\"Stock Selling Price\"': '280', '\"Expected Profit\"': '40', '\"Shelf number\"': '3'}\n",
      "{'_id': ObjectId('5e58c73f5b2de941386c4822'), '\"Stock Item\"': 'Orange', 'Size': '1kg', '\"Product type\"': 'Fruits', 'Quantity': '30', '\"Stock Unit Price\"': '8', '\"Stock price\"': '240', '\"Selling Unit Price\"': '15', '\"Stock Selling Price\"': '450', '\"Expected Profit\"': '210', '\"Shelf number\"': '6'}\n",
      "{'_id': ObjectId('5e58c73f5b2de941386c4815'), '\"Stock Item\"': 'Mince', 'Size': '\"160 g\"', '\"Product type\"': 'Pie', 'Quantity': '25', '\"Stock Unit Price\"': '12', '\"Stock price\"': '300', '\"Selling Unit Price\"': '15', '\"Stock Selling Price\"': '375', '\"Expected Profit\"': '75', '\"Shelf number\"': '4'}\n",
      "{'_id': ObjectId('5e58c73f5b2de941386c4825'), '\"Stock Item\"': 'Magnum', 'Size': '\"250 ml\"', '\"Product type\"': '\"Ice lolly\"', 'Quantity': '25', '\"Stock Unit Price\"': '12', '\"Stock price\"': '300', '\"Selling Unit Price\"': '17', '\"Stock Selling Price\"': '425', '\"Expected Profit\"': '50', '\"Shelf number\"': '7'}\n",
      "{'_id': ObjectId('5e58c73f5b2de941386c4803'), '\"Stock Item\"': 'Lays', 'Size': '\"36 g\"', '\"Product type\"': 'Chips', 'Quantity': '50', '\"Stock Unit Price\"': '6', '\"Stock price\"': '300', '\"Selling Unit Price\"': '7', '\"Stock Selling Price\"': '350', '\"Expected Profit\"': '50', '\"Shelf number\"': '1'}\n",
      "{'_id': ObjectId('5e58c73f5b2de941386c4824'), '\"Stock Item\"': 'Kiwi', 'Size': '1kg', '\"Product type\"': 'Fruits', 'Quantity': '20', '\"Stock Unit Price\"': '10', '\"Stock price\"': '200', '\"Selling Unit Price\"': '18', '\"Stock Selling Price\"': '360', '\"Expected Profit\"': '125', '\"Shelf number\"': '6'}\n",
      "{'_id': ObjectId('5e58c73f5b2de941386c4805'), '\"Stock Item\"': 'Fritos', 'Size': '\"36 g\"', '\"Product type\"': 'Chips', 'Quantity': '50', '\"Stock Unit Price\"': '2', '\"Stock price\"': '100', '\"Selling Unit Price\"': '3', '\"Stock Selling Price\"': '150', '\"Expected Profit\"': '50', '\"Shelf number\"': '1'}\n",
      "{'_id': ObjectId('5e58c73f5b2de941386c4808'), '\"Stock Item\"': 'Fanta', 'Size': '\"340 ml\"', '\"Product type\"': 'Cooldrink', 'Quantity': '25', '\"Stock Unit Price\"': '10', '\"Stock price\"': '250', '\"Selling Unit Price\"': '11', '\"Stock Selling Price\"': '275', '\"Expected Profit\"': '25', '\"Shelf number\"': '2'}\n",
      "{'_id': ObjectId('5e58c73f5b2de941386c4804'), '\"Stock Item\"': 'Doritos', 'Size': '\"36 g\"', '\"Product type\"': 'Chips', 'Quantity': '50', '\"Stock Unit Price\"': '8', '\"Stock price\"': '400', '\"Selling Unit Price\"': '9', '\"Stock Selling Price\"': '450', '\"Expected Profit\"': '50', '\"Shelf number\"': '1'}\n",
      "{'_id': ObjectId('5e58c73f5b2de941386c480f'), '\"Stock Item\"': 'Crisp', 'Size': '\"48 g\"', '\"Product type\"': 'Chocolate', 'Quantity': '40', '\"Stock Unit Price\"': '5', '\"Stock price\"': '200', '\"Selling Unit Price\"': '6', '\"Stock Selling Price\"': '240', '\"Expected Profit\"': '40', '\"Shelf number\"': '3'}\n",
      "{'_id': ObjectId('5e58c73f5b2de941386c4807'), '\"Stock Item\"': 'Coke', 'Size': '\"340 ml\"', '\"Product type\"': 'Cooldrink', 'Quantity': '25', '\"Stock Unit Price\"': '10', '\"Stock price\"': '250', '\"Selling Unit Price\"': '11', '\"Stock Selling Price\"': '275', '\"Expected Profit\"': '25', '\"Shelf number\"': '2'}\n",
      "{'_id': ObjectId('5e58c73f5b2de941386c4812'), '\"Stock Item\"': 'Chicken', 'Size': '\"160 g\"', '\"Product type\"': 'Pie', 'Quantity': '25', '\"Stock Unit Price\"': '12', '\"Stock price\"': '300', '\"Selling Unit Price\"': '15', '\"Stock Selling Price\"': '375', '\"Expected Profit\"': '75', '\"Shelf number\"': '4'}\n",
      "{'_id': ObjectId('5e58c73f5b2de941386c481f'), '\"Stock Item\"': 'Carrots', 'Size': '1kg', '\"Product type\"': 'Veggies', 'Quantity': '30', '\"Stock Unit Price\"': '7', '\"Stock price\"': '210', '\"Selling Unit Price\"': '10', '\"Stock Selling Price\"': '300', '\"Expected Profit\"': '90', '\"Shelf number\"': '5'}\n",
      "{'_id': ObjectId('5e58c73f5b2de941386c4818'), '\"Stock Item\"': 'Caramel', 'Size': 'single', '\"Product type\"': 'Cupcake', 'Quantity': '25', '\"Stock Unit Price\"': '6', '\"Stock price\"': '150', '\"Selling Unit Price\"': '9', '\"Stock Selling Price\"': '225', '\"Expected Profit\"': '75', '\"Shelf number\"': '4'}\n",
      "{'_id': ObjectId('5e58c73f5b2de941386c4827'), '\"Stock Item\"': 'Calippo', 'Size': '\"250 ml\"', '\"Product type\"': '\"Ice lolly\"', 'Quantity': '25', '\"Stock Unit Price\"': '11', '\"Stock price\"': '275', '\"Selling Unit Price\"': '13', '\"Stock Selling Price\"': '325', '\"Expected Profit\"': '50', '\"Shelf number\"': '7'}\n",
      "{'_id': ObjectId('5e58c73f5b2de941386c480c'), '\"Stock Item\"': 'Cadbury', 'Size': '\"48 g\"', '\"Product type\"': 'Chocolate', 'Quantity': '30', '\"Stock Unit Price\"': '8', '\"Stock price\"': '240', '\"Selling Unit Price\"': '9', '\"Stock Selling Price\"': '270', '\"Expected Profit\"': '30', '\"Shelf number\"': '3'}\n",
      "{'_id': ObjectId('5e58c73f5b2de941386c481c'), '\"Stock Item\"': 'Cabbage', 'Size': '\"1 piece\"', '\"Product type\"': 'Veggies', 'Quantity': '20', '\"Stock Unit Price\"': '7', '\"Stock price\"': '140', '\"Selling Unit Price\"': '10', '\"Stock Selling Price\"': '200', '\"Expected Profit\"': '60', '\"Shelf number\"': '5'}\n",
      "{'_id': ObjectId('5e58c73f5b2de941386c4817'), '\"Stock Item\"': 'Bran', 'Size': 'single', '\"Product type\"': 'Cupcake', 'Quantity': '25', '\"Stock Unit Price\"': '6', '\"Stock price\"': '150', '\"Selling Unit Price\"': '9', '\"Stock Selling Price\"': '225', '\"Expected Profit\"': '75', '\"Shelf number\"': '4'}\n",
      "{'_id': ObjectId('5e58c73f5b2de941386c4819'), '\"Stock Item\"': 'Blueberry', 'Size': 'single', '\"Product type\"': 'Cupcake', 'Quantity': '25', '\"Stock Unit Price\"': '7', '\"Stock price\"': '175', '\"Selling Unit Price\"': '10', '\"Stock Selling Price\"': '250', '\"Expected Profit\"': '75', '\"Shelf number\"': '4'}\n",
      "{'_id': ObjectId('5e58c73f5b2de941386c482e'), '\"Stock Item\"': 'Benny', 'Size': '\"7 g\"', '\"Product type\"': 'Spices', 'Quantity': '50', '\"Stock Unit Price\"': '2', '\"Stock price\"': '100', '\"Selling Unit Price\"': '3', '\"Stock Selling Price\"': '150', '\"Expected Profit\"': '50', '\"Shelf number\"': '8'}\n",
      "{'_id': ObjectId('5e58c73f5b2de941386c4820'), '\"Stock Item\"': 'Apple', 'Size': '1kg', '\"Product type\"': 'Fruits', 'Quantity': '30', '\"Stock Unit Price\"': '7', '\"Stock price\"': '210', '\"Selling Unit Price\"': '12', '\"Stock Selling Price\"': '360', '\"Expected Profit\"': '50', '\"Shelf number\"': '6'}\n",
      "{'_id': ObjectId('5e58c73f5b2de941386c481a'), '\"Stock Item\"': '\"Thin mint\"', 'Size': 'single', '\"Product type\"': 'Cupcake', 'Quantity': '25', '\"Stock Unit Price\"': '7', '\"Stock price\"': '175', '\"Selling Unit Price\"': '10', '\"Stock Selling Price\"': '250', '\"Expected Profit\"': '75', '\"Shelf number\"': '4'}\n",
      "{'_id': ObjectId('5e58c73f5b2de941386c481b'), '\"Stock Item\"': '\"Spinach \"', 'Size': '\"1 pack\"', '\"Product type\"': 'Veggies', 'Quantity': '20', '\"Stock Unit Price\"': '7', '\"Stock price\"': '140', '\"Selling Unit Price\"': '10', '\"Stock Selling Price\"': '200', '\"Expected Profit\"': '50', '\"Shelf number\"': '8'}\n",
      "{'_id': ObjectId('5e58c73f5b2de941386c482b'), '\"Stock Item\"': '\"Spicy barbecue\"', 'Size': '\"7 g\"', '\"Product type\"': 'Spices', 'Quantity': '50', '\"Stock Unit Price\"': '2', '\"Stock price\"': '100', '\"Selling Unit Price\"': '3', '\"Stock Selling Price\"': '150', '\"Expected Profit\"': '50', '\"Shelf number\"': '8'}\n",
      "{'_id': ObjectId('5e58c73f5b2de941386c482c'), '\"Stock Item\"': '\"Rajah medium\"', 'Size': '\"7 g\"', '\"Product type\"': 'Spices', 'Quantity': '50', '\"Stock Unit Price\"': '2', '\"Stock price\"': '100', '\"Selling Unit Price\"': '3', '\"Stock Selling Price\"': '150', '\"Expected Profit\"': '50', '\"Shelf number\"': '8'}\n",
      "{'_id': ObjectId('5e58c73f5b2de941386c4806'), '\"Stock Item\"': '\"Popcorns \"', 'Size': '\"36 g\"', '\"Product type\"': 'Chips', 'Quantity': '50', '\"Stock Unit Price\"': '4', '\"Stock price\"': '200', '\"Selling Unit Price\"': '5', '\"Stock Selling Price\"': '250', '\"Expected Profit\"': '50', '\"Shelf number\"': '8'}\n",
      "{'_id': ObjectId('5e58c73f5b2de941386c4811'), '\"Stock Item\"': '\"Pepper Steak\"', 'Size': '\"160 g\"', '\"Product type\"': 'Pie', 'Quantity': '25', '\"Stock Unit Price\"': '15', '\"Stock price\"': '375', '\"Selling Unit Price\"': '18', '\"Stock Selling Price\"': '450', '\"Expected Profit\"': '25', '\"Shelf number\"': '4'}\n",
      "{'_id': ObjectId('5e58c73f5b2de941386c4826'), '\"Stock Item\"': '\"Mini Milk\"', 'Size': '\"250 ml\"', '\"Product type\"': '\"Ice lolly\"', 'Quantity': '25', '\"Stock Unit Price\"': '10', '\"Stock price\"': '250', '\"Selling Unit Price\"': '12', '\"Stock Selling Price\"': '300', '\"Expected Profit\"': '50', '\"Shelf number\"': '7'}\n",
      "{'_id': ObjectId('5e58c73f5b2de941386c480e'), '\"Stock Item\"': '\"Lunch Bar\"', 'Size': '\"48 g\"', '\"Product type\"': 'Chocolate', 'Quantity': '30', '\"Stock Unit Price\"': '5', '\"Stock price\"': '150', '\"Selling Unit Price\"': '6', '\"Stock Selling Price\"': '180', '\"Expected Profit\"': '30', '\"Shelf number\"': '3'}\n",
      "{'_id': ObjectId('5e58c73f5b2de941386c4813'), '\"Stock Item\"': '\"Egg and Ham \"', 'Size': '\"160 g\"', '\"Product type\"': 'Pie', 'Quantity': '25', '\"Stock Unit Price\"': '12', '\"Stock price\"': '300', '\"Selling Unit Price\"': '15', '\"Stock Selling Price\"': '375', '\"Expected Profit\"': '50', '\"Shelf number\"': '8'}\n",
      "{'_id': ObjectId('5e58c73f5b2de941386c482a'), '\"Stock Item\"': '\"Black pepper\"', 'Size': '\"7 g\"', '\"Product type\"': 'Spices', 'Quantity': '50', '\"Stock Unit Price\"': '2', '\"Stock price\"': '100', '\"Selling Unit Price\"': '3', '\"Stock Selling Price\"': '150', '\"Expected Profit\"': '50', '\"Shelf number\"': '8'}\n"
     ]
    }
   ],
   "source": [
    "#Sort data in descending order\n",
    "mydoc = mycol.find().sort('\"Stock Item\"', -1)\n",
    "\n",
    "for x in mydoc:\n",
    "    print(x)"
   ]
  },
  {
   "cell_type": "code",
   "execution_count": 43,
   "metadata": {},
   "outputs": [
    {
     "name": "stdout",
     "output_type": "stream",
     "text": [
      "{'_id': ObjectId('5e58c73f5b2de941386c4802'), '\"Stock Item\"': 'Simba', 'Size': '\"36 g\"', '\"Product type\"': 'Chips', 'Quantity': '50', '\"Stock Unit Price\"': '5', '\"Stock price\"': '250', '\"Selling Unit Price\"': '6', '\"Stock Selling Price\"': '300', '\"Expected Profit\"': '50', '\"Shelf number\"': '1'}\n",
      "{'_id': ObjectId('5e58c73f5b2de941386c4803'), '\"Stock Item\"': 'Lays', 'Size': '\"36 g\"', '\"Product type\"': 'Chips', 'Quantity': '50', '\"Stock Unit Price\"': '6', '\"Stock price\"': '300', '\"Selling Unit Price\"': '7', '\"Stock Selling Price\"': '350', '\"Expected Profit\"': '50', '\"Shelf number\"': '1'}\n",
      "{'_id': ObjectId('5e58c73f5b2de941386c4804'), '\"Stock Item\"': 'Doritos', 'Size': '\"36 g\"', '\"Product type\"': 'Chips', 'Quantity': '50', '\"Stock Unit Price\"': '8', '\"Stock price\"': '400', '\"Selling Unit Price\"': '9', '\"Stock Selling Price\"': '450', '\"Expected Profit\"': '50', '\"Shelf number\"': '1'}\n",
      "{'_id': ObjectId('5e58c73f5b2de941386c4805'), '\"Stock Item\"': 'Fritos', 'Size': '\"36 g\"', '\"Product type\"': 'Chips', 'Quantity': '50', '\"Stock Unit Price\"': '2', '\"Stock price\"': '100', '\"Selling Unit Price\"': '3', '\"Stock Selling Price\"': '150', '\"Expected Profit\"': '50', '\"Shelf number\"': '1'}\n",
      "{'_id': ObjectId('5e58c73f5b2de941386c4806'), '\"Stock Item\"': '\"Popcorns \"', 'Size': '\"36 g\"', '\"Product type\"': 'Chips', 'Quantity': '50', '\"Stock Unit Price\"': '4', '\"Stock price\"': '200', '\"Selling Unit Price\"': '5', '\"Stock Selling Price\"': '250', '\"Expected Profit\"': '50', '\"Shelf number\"': '8'}\n"
     ]
    }
   ],
   "source": [
    "#filter least 5 brands from data\n",
    "\n",
    "myresult = mycol.find().limit(-5)\n",
    "\n",
    "for x in myresult:\n",
    "    print(x)"
   ]
  },
  {
   "cell_type": "code",
   "execution_count": 49,
   "metadata": {},
   "outputs": [],
   "source": [
    "#create a collection called \"Top 3 Products\" within Data Tracker\n",
    "#mycol2 = mydb[\"Top_3_Products\"] \n",
    "#result = [x]\n",
    "#insert_top = mycol2.insert_many(result)"
   ]
  },
  {
   "cell_type": "code",
   "execution_count": 44,
   "metadata": {},
   "outputs": [],
   "source": [
    "#create a collection called \"Top 3 Products\" within Data Tracker\n",
    "\n",
    "mycol2 = mydb[\"Top_3_Products\"] \n",
    "\n",
    "myProducts = [\n",
    "    { \n",
    "    \"_id\": \"1\",\n",
    "    \"Stock Item\": \"Simba\",\n",
    "    \"Size\": \"36 g\",\n",
    "    \"Product type\": \"Chips\",\n",
    "    \"Quantity\": \"50\",\n",
    "    \"Stock Unit Price\": \"5\",\n",
    "    \"Stock price\": \"250\",\n",
    "    \"Selling Unit Price\": \"6\",\n",
    "    \"Stock Selling Price\": \"300\",\n",
    "    \"Expected Profit\": \"50\",\n",
    "    \"Shelf number\": \"1\",\n",
    "    \"Barcode\": \"5865696235846\", \n",
    "    \"BB\": \"03AUG2020\", \n",
    "    \"Storage\": \"Cool dry place\", \n",
    "    \"Message\": \"Lets not litter\"\n",
    "    },\n",
    "    {\n",
    "     \"_id\": \"2\",\n",
    "    \"Stock Item\": \"Lays\",\n",
    "    \"Size\": \"36 g\",\n",
    "    \"Product type\": \"Chips\",\n",
    "    \"Quantity\": \"50\",\n",
    "    \"Stock Unit Price\": \"6\",\n",
    "    \"Stock price\": \"300\",\n",
    "    \"Selling Unit Price\": \"7\",\n",
    "    \"Stock Selling Price\": \"350\",\n",
    "    \"Expected Profit\": \"50\",\n",
    "    \"Shelf number\": \"1\",\n",
    "    \"Barcode\": \"5865696235364\", \n",
    "    \"BB\": \"03AUG2020\", \n",
    "    \"Storage\": \"Cool dry place\", \n",
    "    \"Message\": \"Lets not litter\"\n",
    "    },\n",
    "    {\n",
    "     \"_id\": \"3\",\n",
    "    \"Stock Item\": \"Doritos\",\n",
    "    \"Size\": \"36 g\",\n",
    "    \"Product type\": \"Chips\",\n",
    "    \"Quantity\": \"50\",\n",
    "    \"Stock Unit Price\": \"8\",\n",
    "    \"Stock price\": \"400\",\n",
    "    \"Selling Unit Price\": \"9\",\n",
    "    \"Stock Selling Price\": \"450\",\n",
    "    \"Expected Profit\": \"50\",\n",
    "    \"Shelf number\": \"1\",\n",
    "     \"Barcode\": \"5865696235973\", \n",
    "    \"BB\": \"03AUG2020\", \n",
    "    \"Storage\": \"Cool dry place\", \n",
    "    \"Message\": \"Lets not litter\"   \n",
    "    },\n",
    "  \n",
    "]\n",
    "\n",
    "x = mycol2.insert_many(myProducts)"
   ]
  },
  {
   "cell_type": "code",
   "execution_count": 45,
   "metadata": {},
   "outputs": [
    {
     "name": "stdout",
     "output_type": "stream",
     "text": [
      "{'_id': '1', 'Stock Item': 'Simba', 'Size': '36 g', 'Product type': 'Chips', 'Quantity': '50', 'Stock Unit Price': '5', 'Stock price': '250', 'Selling Unit Price': '6', 'Stock Selling Price': '300', 'Expected Profit': '50', 'Shelf number': '1', 'Barcode': '5865696235846', 'BB': '03AUG2020', 'Storage': 'Cool dry place', 'Message': 'Lets not litter'}\n",
      "{'_id': '2', 'Stock Item': 'Lays', 'Size': '36 g', 'Product type': 'Chips', 'Quantity': '50', 'Stock Unit Price': '6', 'Stock price': '300', 'Selling Unit Price': '7', 'Stock Selling Price': '350', 'Expected Profit': '50', 'Shelf number': '1', 'Barcode': '5865696235364', 'BB': '03AUG2020', 'Storage': 'Cool dry place', 'Message': 'Lets not litter'}\n",
      "{'_id': '3', 'Stock Item': 'Doritos', 'Size': '36 g', 'Product type': 'Chips', 'Quantity': '50', 'Stock Unit Price': '8', 'Stock price': '400', 'Selling Unit Price': '9', 'Stock Selling Price': '450', 'Expected Profit': '50', 'Shelf number': '1', 'Barcode': '5865696235973', 'BB': '03AUG2020', 'Storage': 'Cool dry place', 'Message': 'Lets not litter'}\n"
     ]
    }
   ],
   "source": [
    "#show top 3 products\n",
    "mydoc = mycol2.find()\n",
    "\n",
    "for x in mydoc:\n",
    "    print(x)"
   ]
  },
  {
   "cell_type": "code",
   "execution_count": 48,
   "metadata": {},
   "outputs": [
    {
     "name": "stdout",
     "output_type": "stream",
     "text": [
      "{'_id': '3', 'Stock Item': 'Doritos', 'Size': '36 g', 'Product type': 'Chips', 'Quantity': '50', 'Stock Unit Price': '8', 'Stock price': '400', 'Selling Unit Price': '9', 'Stock Selling Price': '450', 'Expected Profit': '50', 'Shelf number': '1', 'Barcode': '5865696235973', 'BB': '03AUG2020', 'Storage': 'Cool dry place', 'Message': 'Lets not litter'}\n",
      "{'_id': '2', 'Stock Item': 'Lays', 'Size': '36 g', 'Product type': 'Chips', 'Quantity': '50', 'Stock Unit Price': '6', 'Stock price': '300', 'Selling Unit Price': '7', 'Stock Selling Price': '350', 'Expected Profit': '50', 'Shelf number': '1', 'Barcode': '5865696235364', 'BB': '03AUG2020', 'Storage': 'Cool dry place', 'Message': 'Lets not litter'}\n",
      "{'_id': '1', 'Stock Item': 'Simba', 'Size': '36 g', 'Product type': 'Chips', 'Quantity': '50', 'Stock Unit Price': '5', 'Stock price': '250', 'Selling Unit Price': '6', 'Stock Selling Price': '300', 'Expected Profit': '50', 'Shelf number': '1', 'Barcode': '5865696235846', 'BB': '03AUG2020', 'Storage': 'Cool dry place', 'Message': 'Lets not litter'}\n"
     ]
    }
   ],
   "source": [
    "#Sort top 3 products in descending order\n",
    "mydoc = mycol2.find().sort('_id', -1)\n",
    "\n",
    "for x in mydoc:\n",
    "    print(x)"
   ]
  },
  {
   "cell_type": "code",
   "execution_count": 49,
   "metadata": {},
   "outputs": [
    {
     "name": "stdout",
     "output_type": "stream",
     "text": [
      "2 ducuments deleted\n"
     ]
    }
   ],
   "source": [
    "#delete 2 brands\n",
    "myquery = {'_id': {\"$gte\": \"2\"}}\n",
    "\n",
    "x = mycol2.delete_many(myquery)\n",
    "\n",
    "print(x.deleted_count, \"ducuments deleted\")"
   ]
  },
  {
   "cell_type": "code",
   "execution_count": 54,
   "metadata": {},
   "outputs": [
    {
     "name": "stdout",
     "output_type": "stream",
     "text": [
      "{'_id': '1', 'Stock Item': 'Pringles', 'Size': '36 g', 'Product type': 'Chips', 'Quantity': '50', 'Stock Unit Price': '5', 'Stock price': '250', 'Selling Unit Price': '6', 'Stock Selling Price': '300', 'Expected Profit': '50', 'Shelf number': '1', 'Barcode': '5865696235846', 'BB': '03AUG2020', 'Storage': 'Cool dry place', 'Message': 'Lets not litter'}\n"
     ]
    }
   ],
   "source": [
    "#Update one brand\n",
    "\n",
    "myquery = {\"Stock Item\": \"Simba\"}\n",
    "newvalue = {\"$set\": {\"Stock Item\": \"Pringles\"}} \n",
    "mycol2.update_one(myquery, newvalue)\n",
    "\n",
    "for x in mycol2.find():\n",
    "    print(x)"
   ]
  },
  {
   "cell_type": "code",
   "execution_count": null,
   "metadata": {},
   "outputs": [],
   "source": []
  }
 ],
 "metadata": {
  "kernelspec": {
   "display_name": "Python 3",
   "language": "python",
   "name": "python3"
  },
  "language_info": {
   "codemirror_mode": {
    "name": "ipython",
    "version": 3
   },
   "file_extension": ".py",
   "mimetype": "text/x-python",
   "name": "python",
   "nbconvert_exporter": "python",
   "pygments_lexer": "ipython3",
   "version": "3.7.4"
  }
 },
 "nbformat": 4,
 "nbformat_minor": 2
}
